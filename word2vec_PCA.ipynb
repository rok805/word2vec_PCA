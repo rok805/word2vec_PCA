{
 "cells": [
  {
   "cell_type": "code",
   "execution_count": 1,
   "id": "453a4fc5-1cf7-4d07-9663-663f5b3ad553",
   "metadata": {},
   "outputs": [],
   "source": [
    "import gensim\n",
    "from gensim.models import Word2Vec\n",
    "from datetime import datetime\n",
    "from tqdm import tqdm\n",
    "import pandas as pd\n",
    "import os"
   ]
  },
  {
   "cell_type": "code",
   "execution_count": 24,
   "id": "c7017d0e-29a2-42e5-86f9-dcf3e3851bd9",
   "metadata": {},
   "outputs": [],
   "source": [
    "import numpy as np"
   ]
  },
  {
   "cell_type": "markdown",
   "id": "debffb9b-82ab-43c3-9aab-b859cba92afd",
   "metadata": {},
   "source": [
    "## 2차원 학습"
   ]
  },
  {
   "cell_type": "code",
   "execution_count": 2,
   "id": "870ab95c-e036-4e70-bfab-6d69d11975c4",
   "metadata": {
    "tags": []
   },
   "outputs": [
    {
     "name": "stderr",
     "output_type": "stream",
     "text": [
      "100%|██████████| 844013/844013 [00:21<00:00, 39394.80it/s]\n"
     ]
    },
    {
     "name": "stdout",
     "output_type": "stream",
     "text": [
      "0:09:57.537813\n"
     ]
    },
    {
     "data": {
      "text/plain": [
       "[('화서동', 1.0000001192092896),\n",
       " ('노카', 1.0000001192092896),\n",
       " ('부와', 1.0000001192092896),\n",
       " ('북로', 1.0000001192092896),\n",
       " ('화재', 1.0000001192092896),\n",
       " ('최재열', 1.0),\n",
       " ('고해상도', 1.0),\n",
       " ('통신사', 1.0),\n",
       " ('군량리', 1.0),\n",
       " ('컨퍼런스', 1.0)]"
      ]
     },
     "execution_count": 2,
     "metadata": {},
     "output_type": "execute_result"
    }
   ],
   "source": [
    "nouns = []\n",
    "with open('/storage/rok/Korean_Embedding/corpus_nouns.txt', 'r') as f:\n",
    "    for sentence in tqdm(f.readlines()):\n",
    "        nouns.append(sentence.split())\n",
    "\n",
    "def w2v(data, sg, name):\n",
    "    \n",
    "    begin = datetime.now()\n",
    "    model = Word2Vec(sentences=data, vector_size=2, window=5, min_count=5, workers=8, sg=sg)\n",
    "    end = datetime.now() - begin\n",
    "    print(end)\n",
    "    \n",
    "    return model\n",
    "\n",
    "model_2 = w2v(data=nouns, sg=1, name='nouns')\n",
    "model_2.wv.most_similar('코로나', topn=10)"
   ]
  },
  {
   "cell_type": "code",
   "execution_count": 3,
   "id": "15d97d7f-c20d-41ab-9237-31619bde4cb6",
   "metadata": {},
   "outputs": [],
   "source": [
    "#모델 저장\n",
    "model_2.save('./w2v_model_2/model_2')"
   ]
  },
  {
   "cell_type": "code",
   "execution_count": 4,
   "id": "89bd6ac4-9cb9-4998-a7ed-69650cee4644",
   "metadata": {},
   "outputs": [],
   "source": [
    "del nouns"
   ]
  },
  {
   "cell_type": "markdown",
   "id": "c2f0b535-030d-4cbf-bc67-d05bf462777e",
   "metadata": {},
   "source": [
    "## 100차원 학습"
   ]
  },
  {
   "cell_type": "code",
   "execution_count": null,
   "id": "49215e0b-7795-416d-9aad-5ed691ec0786",
   "metadata": {},
   "outputs": [],
   "source": [
    "def w2v_100(data, sg, name):\n",
    "    \n",
    "    begin = datetime.now()\n",
    "    model = Word2Vec(sentences=data, vector_size=100, window=5, min_count=5, workers=8, sg=sg)\n",
    "    end = datetime.now() - begin\n",
    "    print(end)\n",
    "    \n",
    "    return model\n",
    "\n",
    "model_100 = w2v_100(data=nouns, sg=1, name='nouns')\n",
    "model_100.wv.most_similar('코로나', topn=10)"
   ]
  },
  {
   "cell_type": "code",
   "execution_count": null,
   "id": "abde6fd0-3d5e-426e-9de1-ead4dd9432a7",
   "metadata": {},
   "outputs": [],
   "source": [
    "#모델 저장\n",
    "model_100.save('./w2v_model_100/model_100')"
   ]
  },
  {
   "cell_type": "code",
   "execution_count": 10,
   "id": "1e95cd36-f945-48d1-9f08-fd491ded1ec7",
   "metadata": {},
   "outputs": [],
   "source": [
    "model_100= gensim.models.Word2Vec.load('./w2v_model_100/model_100')"
   ]
  },
  {
   "cell_type": "code",
   "execution_count": 17,
   "id": "59161aa7-ff20-40f5-8a40-be4be4e45107",
   "metadata": {},
   "outputs": [
    {
     "data": {
      "text/plain": [
       "[('동예루살렘', 1.0000001192092896),\n",
       " ('단초', 1.0000001192092896),\n",
       " ('변통', 1.0000001192092896),\n",
       " ('한관', 1.0000001192092896),\n",
       " ('측은', 1.0000001192092896),\n",
       " ('홍상표', 1.0000001192092896),\n",
       " ('이동일', 1.0),\n",
       " ('조연경', 1.0),\n",
       " ('김형기', 1.0),\n",
       " ('안동우', 1.0)]"
      ]
     },
     "execution_count": 17,
     "metadata": {},
     "output_type": "execute_result"
    }
   ],
   "source": [
    "model_2.wv.most_similar('여름', topn=10)"
   ]
  },
  {
   "cell_type": "code",
   "execution_count": 18,
   "id": "316fafd0-f841-4c53-a216-b9fd945278f4",
   "metadata": {},
   "outputs": [
    {
     "data": {
      "text/plain": [
       "[('여름철', 0.7057121992111206),\n",
       " ('올여름', 0.6921871900558472),\n",
       " ('다립', 0.6887524724006653),\n",
       " ('바캉스', 0.6848115921020508),\n",
       " ('방학', 0.6845771670341492),\n",
       " ('삼복더위', 0.6685144901275635),\n",
       " ('무더위', 0.6655951142311096),\n",
       " ('늦장마', 0.6617226004600525),\n",
       " ('가요대전', 0.6583240032196045),\n",
       " ('치휴', 0.6530247926712036)]"
      ]
     },
     "execution_count": 18,
     "metadata": {},
     "output_type": "execute_result"
    }
   ],
   "source": [
    "model_100.wv.most_similar('여름', topn=10)"
   ]
  },
  {
   "cell_type": "markdown",
   "id": "f02608e8-2e61-477f-93c6-8b5ceae3eb18",
   "metadata": {},
   "source": [
    "### 시각화"
   ]
  },
  {
   "cell_type": "code",
   "execution_count": 35,
   "id": "7ee43af9-9329-4df7-8776-88ca83846528",
   "metadata": {},
   "outputs": [],
   "source": [
    "import matplotlib.pyplot as plt"
   ]
  },
  {
   "cell_type": "code",
   "execution_count": null,
   "id": "2d572916-7be1-478b-b5c4-38ae9123286d",
   "metadata": {},
   "outputs": [],
   "source": [
    "words = ['사과', '돼지', '컴퓨터', '자동차', '노트북', '인형', '남자', '여자', '엄마', '아빠', '누나', '오빠', '언니', '코로나']"
   ]
  },
  {
   "cell_type": "markdown",
   "id": "deac4ab0-9363-42dd-817c-d932bffb50c1",
   "metadata": {},
   "source": [
    "### 2차원 임베딩 시각화"
   ]
  },
  {
   "cell_type": "code",
   "execution_count": 48,
   "id": "2366f54c-8c65-41bb-bdd9-4edd0bd8cae4",
   "metadata": {},
   "outputs": [],
   "source": [
    "m2_x = [model_2.wv[w][0] for w in words]\n",
    "m2_y = [model_2.wv[w][1] for w in words]"
   ]
  },
  {
   "cell_type": "code",
   "execution_count": 49,
   "id": "426297e8-e363-4d71-b94a-661633e26e1a",
   "metadata": {},
   "outputs": [
    {
     "data": {
      "text/plain": [
       "[<matplotlib.lines.Line2D at 0x7f96b3270940>]"
      ]
     },
     "execution_count": 49,
     "metadata": {},
     "output_type": "execute_result"
    },
    {
     "data": {
      "image/png": "[encoded data removed]",
      "text/plain": [
       "<Figure size 432x288 with 1 Axes>"
      ]
     },
     "metadata": {
      "needs_background": "light"
     },
     "output_type": "display_data"
    }
   ],
   "source": [
    "plt.plot(m2_x, m2_y , linestyle='', marker='.')"
   ]
  },
  {
   "cell_type": "markdown",
   "id": "5c42723d-1750-44d3-90c2-a63678ef16a9",
   "metadata": {
    "tags": []
   },
   "source": [
    "### 100차원 --> PCA 2차원 시각화"
   ]
  },
  {
   "cell_type": "code",
   "execution_count": null,
   "id": "1de6e9ac-be8a-4513-9514-6b17e39937f8",
   "metadata": {},
   "outputs": [],
   "source": [
    "from sklearn.preprocessing import StandardScaler\n",
    "from sklearn.decomposition import PCA"
   ]
  },
  {
   "cell_type": "code",
   "execution_count": 25,
   "id": "22332a8c-bd38-495f-904b-5a80d47320ad",
   "metadata": {},
   "outputs": [],
   "source": [
    "X = np.array([model_100.wv[i] for i in words])"
   ]
  },
  {
   "cell_type": "code",
   "execution_count": 30,
   "id": "8271f15f-bfb1-48e0-9ae2-32bf6ecbca69",
   "metadata": {},
   "outputs": [],
   "source": [
    "X_ = StandardScaler().fit_transform(X)\n",
    "pca = PCA(n_components=2)\n",
    "pc = pca.fit_transform(X_)"
   ]
  },
  {
   "cell_type": "code",
   "execution_count": 41,
   "id": "0f9d0cd7-5950-4236-89e6-e6303211a72c",
   "metadata": {},
   "outputs": [],
   "source": [
    "pc_x = [i[0] for i in pc]"
   ]
  },
  {
   "cell_type": "code",
   "execution_count": 42,
   "id": "56ecd36a-cff4-4ead-bec2-861377846761",
   "metadata": {},
   "outputs": [],
   "source": [
    "pc_y = [i[1] for i in pc]"
   ]
  },
  {
   "cell_type": "code",
   "execution_count": 43,
   "id": "8b8ebed8-349f-4c21-b8dc-28a051b2fb30",
   "metadata": {},
   "outputs": [
    {
     "data": {
      "text/plain": [
       "[<matplotlib.lines.Line2D at 0x7f96ba614a00>]"
      ]
     },
     "execution_count": 43,
     "metadata": {},
     "output_type": "execute_result"
    },
    {
     "data": {
      "image/png": "[encoded data removed]",
      "text/plain": [
       "<Figure size 432x288 with 1 Axes>"
      ]
     },
     "metadata": {
      "needs_background": "light"
     },
     "output_type": "display_data"
    }
   ],
   "source": [
    "plt.plot(pc_x, pc_y , linestyle='', marker='.')"
   ]
  },
  {
   "cell_type": "markdown",
   "id": "feeea7bc-3bda-4360-b8a8-ccdeaa3cf109",
   "metadata": {},
   "source": [
    "### 100차원 --> t-SNE 2차원 시각화"
   ]
  },
  {
   "cell_type": "code",
   "execution_count": 32,
   "id": "72a2a694-3fa0-4a96-a0db-1f745b9b262b",
   "metadata": {},
   "outputs": [],
   "source": [
    "from sklearn.manifold import TSNE"
   ]
  },
  {
   "cell_type": "code",
   "execution_count": 33,
   "id": "f6271410-097e-4f6e-b468-293b95c75b30",
   "metadata": {},
   "outputs": [
    {
     "name": "stderr",
     "output_type": "stream",
     "text": [
      "/storage/rok/miniconda3/lib/python3.9/site-packages/sklearn/manifold/_t_sne.py:795: FutureWarning: The default initialization in TSNE will change from 'random' to 'pca' in 1.2.\n",
      "  warnings.warn(\n",
      "/storage/rok/miniconda3/lib/python3.9/site-packages/sklearn/manifold/_t_sne.py:805: FutureWarning: The default learning rate in TSNE will change from 200.0 to 'auto' in 1.2.\n",
      "  warnings.warn(\n"
     ]
    }
   ],
   "source": [
    "X_tsne = TSNE(n_components = 2).fit_transform(X)"
   ]
  },
  {
   "cell_type": "code",
   "execution_count": 34,
   "id": "662b8cbf-4ff0-43a7-8c13-4bf440248356",
   "metadata": {},
   "outputs": [
    {
     "data": {
      "text/plain": [
       "array([[-110.850426  , -101.46662   ],\n",
       "       [-251.47945   ,  -98.71067   ],\n",
       "       [-136.90762   , -231.40152   ],\n",
       "       [-179.33788   ,  169.0495    ],\n",
       "       [  71.47731   ,   46.107285  ],\n",
       "       [ -43.593174  ,   99.414116  ],\n",
       "       [  20.279512  , -197.70564   ],\n",
       "       [ 137.89809   , -102.59902   ],\n",
       "       [ 203.88815   ,   44.0171    ],\n",
       "       [ -46.07888   ,  239.24828   ],\n",
       "       [  97.549355  ,  184.11205   ],\n",
       "       [-276.5079    ,   53.500267  ],\n",
       "       [  -0.47216246,  -51.499176  ],\n",
       "       [-140.36601   ,   21.864996  ]], dtype=float32)"
      ]
     },
     "execution_count": 34,
     "metadata": {},
     "output_type": "execute_result"
    }
   ],
   "source": [
    "X_tsne"
   ]
  },
  {
   "cell_type": "code",
   "execution_count": 45,
   "id": "33e91f56-ee1c-4f9a-889e-56f429ec91be",
   "metadata": {},
   "outputs": [],
   "source": [
    "tsne_x = [i[0] for i in X_tsne]"
   ]
  },
  {
   "cell_type": "code",
   "execution_count": 44,
   "id": "97fbce39-5d0e-4707-a99b-458b91217e4f",
   "metadata": {},
   "outputs": [],
   "source": [
    "tsne_y = [i[1] for i in X_tsne]"
   ]
  },
  {
   "cell_type": "code",
   "execution_count": 46,
   "id": "3f7de15f-cce4-40c1-92dd-505a8fa65003",
   "metadata": {},
   "outputs": [
    {
     "data": {
      "text/plain": [
       "[<matplotlib.lines.Line2D at 0x7f96b39c1be0>]"
      ]
     },
     "execution_count": 46,
     "metadata": {},
     "output_type": "execute_result"
    },
    {
     "data": {
      "image/png": "[encoded data removed]",
      "text/plain": [
       "<Figure size 432x288 with 1 Axes>"
      ]
     },
     "metadata": {
      "needs_background": "light"
     },
     "output_type": "display_data"
    }
   ],
   "source": [
    "plt.plot(tsne_x, tsne_y , linestyle='', marker='.')"
   ]
  },
  {
   "cell_type": "code",
   "execution_count": null,
   "id": "b29f6ff3-9c1b-4e74-8169-d9f4bc666f99",
   "metadata": {},
   "outputs": [],
   "source": []
  }
 ],
 "metadata": {
  "kernelspec": {
   "display_name": "Python 3 (ipykernel)",
   "language": "python",
   "name": "python3"
  },
  "language_info": {
   "codemirror_mode": {
    "name": "ipython",
    "version": 3
   },
   "file_extension": ".py",
   "mimetype": "text/x-python",
   "name": "python",
   "nbconvert_exporter": "python",
   "pygments_lexer": "ipython3",
   "version": "3.9.5"
  }
 },
 "nbformat": 4,
 "nbformat_minor": 5
}
