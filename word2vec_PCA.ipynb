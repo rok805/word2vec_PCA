{
 "cells": [
  {
   "cell_type": "code",
   "execution_count": 1,
   "id": "5226b8ec-2f96-4980-8480-dc1fd1da2fdb",
   "metadata": {},
   "outputs": [],
   "source": [
    "import gensim\n",
    "from gensim.models import Word2Vec\n",
    "\n",
    "from datetime import datetime\n",
    "from tqdm import tqdm\n",
    "import numpy as np\n",
    "import pandas as pd\n",
    "import os"
   ]
  },
  {
   "cell_type": "markdown",
   "id": "debffb9b-82ab-43c3-9aab-b859cba92afd",
   "metadata": {},
   "source": [
    "## 2차원 학습"
   ]
  },
  {
   "cell_type": "code",
   "execution_count": 2,
   "id": "870ab95c-e036-4e70-bfab-6d69d11975c4",
   "metadata": {
    "tags": []
   },
   "outputs": [
    {
     "name": "stderr",
     "output_type": "stream",
     "text": [
      "100%|██████████| 844013/844013 [00:21<00:00, 39394.80it/s]\n"
     ]
    },
    {
     "name": "stdout",
     "output_type": "stream",
     "text": [
      "0:09:57.537813\n"
     ]
    },
    {
     "data": {
      "text/plain": [
       "[('화서동', 1.0000001192092896),\n",
       " ('노카', 1.0000001192092896),\n",
       " ('부와', 1.0000001192092896),\n",
       " ('북로', 1.0000001192092896),\n",
       " ('화재', 1.0000001192092896),\n",
       " ('최재열', 1.0),\n",
       " ('고해상도', 1.0),\n",
       " ('통신사', 1.0),\n",
       " ('군량리', 1.0),\n",
       " ('컨퍼런스', 1.0)]"
      ]
     },
     "execution_count": 2,
     "metadata": {},
     "output_type": "execute_result"
    }
   ],
   "source": [
    "nouns = []\n",
    "with open('/storage/rok/Korean_Embedding/corpus_nouns.txt', 'r') as f:\n",
    "    for sentence in tqdm(f.readlines()):\n",
    "        nouns.append(sentence.split())\n",
    "\n",
    "def w2v(data, sg, name):\n",
    "    \n",
    "    begin = datetime.now()\n",
    "    model = Word2Vec(sentences=data, vector_size=2, window=5, min_count=5, workers=8, sg=sg)\n",
    "    end = datetime.now() - begin\n",
    "    print(end)\n",
    "    \n",
    "    return model\n",
    "\n",
    "model_2 = w2v(data=nouns, sg=1, name='nouns')\n",
    "model_2.wv.most_similar('코로나', topn=10)"
   ]
  },
  {
   "cell_type": "code",
   "execution_count": 3,
   "id": "15d97d7f-c20d-41ab-9237-31619bde4cb6",
   "metadata": {},
   "outputs": [],
   "source": [
    "#모델 저장\n",
    "model_2.save('./w2v_model_2/model_2')"
   ]
  },
  {
   "cell_type": "code",
   "execution_count": 4,
   "id": "89bd6ac4-9cb9-4998-a7ed-69650cee4644",
   "metadata": {},
   "outputs": [],
   "source": [
    "del nouns"
   ]
  },
  {
   "cell_type": "markdown",
   "id": "c2f0b535-030d-4cbf-bc67-d05bf462777e",
   "metadata": {},
   "source": [
    "## 100차원 학습"
   ]
  },
  {
   "cell_type": "code",
   "execution_count": null,
   "id": "49215e0b-7795-416d-9aad-5ed691ec0786",
   "metadata": {},
   "outputs": [],
   "source": [
    "def w2v_100(data, sg, name):\n",
    "    \n",
    "    begin = datetime.now()\n",
    "    model = Word2Vec(sentences=data, vector_size=100, window=5, min_count=5, workers=8, sg=sg)\n",
    "    end = datetime.now() - begin\n",
    "    print(end)\n",
    "    \n",
    "    return model\n",
    "\n",
    "model_100 = w2v_100(data=nouns, sg=1, name='nouns')\n",
    "model_100.wv.most_similar('코로나', topn=10)"
   ]
  },
  {
   "cell_type": "code",
   "execution_count": null,
   "id": "abde6fd0-3d5e-426e-9de1-ead4dd9432a7",
   "metadata": {},
   "outputs": [],
   "source": [
    "#모델 저장\n",
    "model_100.save('./w2v_model_100/model_100')"
   ]
  },
  {
   "cell_type": "markdown",
   "id": "498e7a1f-b118-46eb-bb65-5650d386e183",
   "metadata": {},
   "source": [
    "### load model "
   ]
  },
  {
   "cell_type": "code",
   "execution_count": 2,
   "id": "1e95cd36-f945-48d1-9f08-fd491ded1ec7",
   "metadata": {},
   "outputs": [],
   "source": [
    "model_2= gensim.models.Word2Vec.load('./w2v_model_2/model_2')\n",
    "model_100= gensim.models.Word2Vec.load('./w2v_model_100/model_100')"
   ]
  },
  {
   "cell_type": "code",
   "execution_count": 3,
   "id": "59161aa7-ff20-40f5-8a40-be4be4e45107",
   "metadata": {},
   "outputs": [
    {
     "data": {
      "text/plain": [
       "[('동예루살렘', 1.0000001192092896),\n",
       " ('단초', 1.0000001192092896),\n",
       " ('변통', 1.0000001192092896),\n",
       " ('한관', 1.0000001192092896),\n",
       " ('측은', 1.0000001192092896),\n",
       " ('홍상표', 1.0000001192092896),\n",
       " ('이동일', 1.0),\n",
       " ('조연경', 1.0),\n",
       " ('김형기', 1.0),\n",
       " ('안동우', 1.0)]"
      ]
     },
     "execution_count": 3,
     "metadata": {},
     "output_type": "execute_result"
    }
   ],
   "source": [
    "model_2.wv.most_similar('여름', topn=10)"
   ]
  },
  {
   "cell_type": "code",
   "execution_count": 4,
   "id": "316fafd0-f841-4c53-a216-b9fd945278f4",
   "metadata": {},
   "outputs": [
    {
     "data": {
      "text/plain": [
       "[('여름철', 0.7057121992111206),\n",
       " ('올여름', 0.6921871900558472),\n",
       " ('다립', 0.6887524724006653),\n",
       " ('바캉스', 0.6848115921020508),\n",
       " ('방학', 0.6845771670341492),\n",
       " ('삼복더위', 0.6685144901275635),\n",
       " ('무더위', 0.6655951142311096),\n",
       " ('늦장마', 0.6617226004600525),\n",
       " ('가요대전', 0.6583240032196045),\n",
       " ('치휴', 0.6530247926712036)]"
      ]
     },
     "execution_count": 4,
     "metadata": {},
     "output_type": "execute_result"
    }
   ],
   "source": [
    "model_100.wv.most_similar('여름', topn=10)"
   ]
  },
  {
   "cell_type": "markdown",
   "id": "f02608e8-2e61-477f-93c6-8b5ceae3eb18",
   "metadata": {},
   "source": [
    "### 시각화"
   ]
  },
  {
   "cell_type": "code",
   "execution_count": 7,
   "id": "7ee43af9-9329-4df7-8776-88ca83846528",
   "metadata": {},
   "outputs": [],
   "source": [
    "import matplotlib.pyplot as plt\n",
    "from matplotlib import font_manager"
   ]
  },
  {
   "cell_type": "code",
   "execution_count": 8,
   "id": "2d572916-7be1-478b-b5c4-38ae9123286d",
   "metadata": {},
   "outputs": [],
   "source": [
    "words = ['사과', '돼지', '컴퓨터', '자동차', '노트북', '인형', '남자', '여자', '엄마', '아빠', '누나', '오빠', '언니', '코로나']"
   ]
  },
  {
   "cell_type": "markdown",
   "id": "deac4ab0-9363-42dd-817c-d932bffb50c1",
   "metadata": {},
   "source": [
    "### 2차원 임베딩 시각화"
   ]
  },
  {
   "cell_type": "code",
   "execution_count": 9,
   "id": "2366f54c-8c65-41bb-bdd9-4edd0bd8cae4",
   "metadata": {},
   "outputs": [],
   "source": [
    "m2_x = [model_2.wv[w][0] for w in words]\n",
    "m2_y = [model_2.wv[w][1] for w in words]"
   ]
  },
  {
   "cell_type": "code",
   "execution_count": 10,
   "id": "426297e8-e363-4d71-b94a-661633e26e1a",
   "metadata": {},
   "outputs": [
    {
     "name": "stdout",
     "output_type": "stream",
     "text": [
      "NanumGothic\n"
     ]
    },
    {
     "name": "stderr",
     "output_type": "stream",
     "text": [
      "/storage/rok/miniconda3/lib/python3.9/site-packages/IPython/core/pylabtools.py:151: UserWarning: Glyph 8722 (\\N{MINUS SIGN}) missing from current font.\n",
      "  fig.canvas.print_figure(bytes_io, **kw)\n"
     ]
    },
    {
     "data": {
      "image/png": "[encoded data removed]",
      "text/plain": [
       "<Figure size 432x288 with 1 Axes>"
      ]
     },
     "metadata": {
      "needs_background": "light"
     },
     "output_type": "display_data"
    }
   ],
   "source": [
    "font_fname = './NanumGothic.ttf'\n",
    "font_family = font_manager.FontProperties(fname=font_fname).get_name()\n",
    "plt.rcParams[\"font.family\"] = font_family\n",
    "\n",
    "plt.plot(m2_x, m2_y , linestyle='', marker='.')\n",
    "for x,y,w in zip(m2_x, m2_y, words):\n",
    "    label = w\n",
    "\n",
    "    plt.annotate(label, # this is the text\n",
    "                 (x,y), # these are the coordinates to position the label\n",
    "                 textcoords=\"offset points\", # how to position the text\n",
    "                 xytext=(0,10), # distance from text to points (x,y)\n",
    "                 ha='center') # horizontal alignment can be left, right or center\n",
    "\n",
    "plt.show()"
   ]
  },
  {
   "cell_type": "markdown",
   "id": "5c42723d-1750-44d3-90c2-a63678ef16a9",
   "metadata": {
    "tags": []
   },
   "source": [
    "### 100차원 --> PCA 2차원 시각화"
   ]
  },
  {
   "cell_type": "code",
   "execution_count": 11,
   "id": "1de6e9ac-be8a-4513-9514-6b17e39937f8",
   "metadata": {},
   "outputs": [],
   "source": [
    "from sklearn.preprocessing import StandardScaler\n",
    "from sklearn.decomposition import PCA"
   ]
  },
  {
   "cell_type": "code",
   "execution_count": 12,
   "id": "22332a8c-bd38-495f-904b-5a80d47320ad",
   "metadata": {},
   "outputs": [],
   "source": [
    "X = np.array([model_100.wv[i] for i in words])"
   ]
  },
  {
   "cell_type": "code",
   "execution_count": 13,
   "id": "8271f15f-bfb1-48e0-9ae2-32bf6ecbca69",
   "metadata": {},
   "outputs": [],
   "source": [
    "X_ = StandardScaler().fit_transform(X)\n",
    "pca = PCA(n_components=2)\n",
    "pc = pca.fit_transform(X_)"
   ]
  },
  {
   "cell_type": "code",
   "execution_count": 14,
   "id": "71198152-4d23-4c9c-a153-84373410dfb8",
   "metadata": {},
   "outputs": [],
   "source": [
    "pc_x = [i[0] for i in pc]\n",
    "pc_y = [i[1] for i in pc]"
   ]
  },
  {
   "cell_type": "code",
   "execution_count": 15,
   "id": "d05cd737-8d2a-4fcf-acac-c6c46fa62133",
   "metadata": {},
   "outputs": [
    {
     "name": "stdout",
     "output_type": "stream",
     "text": [
      "NanumGothic\n"
     ]
    },
    {
     "name": "stderr",
     "output_type": "stream",
     "text": [
      "/storage/rok/miniconda3/lib/python3.9/site-packages/IPython/core/pylabtools.py:151: UserWarning: Glyph 8722 (\\N{MINUS SIGN}) missing from current font.\n",
      "  fig.canvas.print_figure(bytes_io, **kw)\n"
     ]
    },
    {
     "data": {
      "image/png": "[encoded data removed]",
      "text/plain": [
       "<Figure size 432x288 with 1 Axes>"
      ]
     },
     "metadata": {
      "needs_background": "light"
     },
     "output_type": "display_data"
    }
   ],
   "source": [
    "font_fname = './NanumGothic.ttf'\n",
    "font_family = font_manager.FontProperties(fname=font_fname).get_name()\n",
    "plt.rcParams[\"font.family\"] = font_family\n",
    "\n",
    "plt.plot(pc_x, pc_y , linestyle='', marker='.')\n",
    "for x,y,w in zip(pc_x, pc_y, words):\n",
    "    label = w\n",
    "\n",
    "    plt.annotate(label, # this is the text\n",
    "                 (x,y), # these are the coordinates to position the label\n",
    "                 textcoords=\"offset points\", # how to position the text\n",
    "                 xytext=(0,10), # distance from text to points (x,y)\n",
    "                 ha='center') # horizontal alignment can be left, right or center\n",
    "\n",
    "plt.show()"
   ]
  },
  {
   "cell_type": "markdown",
   "id": "feeea7bc-3bda-4360-b8a8-ccdeaa3cf109",
   "metadata": {},
   "source": [
    "### 100차원 --> t-SNE 2차원 시각화"
   ]
  },
  {
   "cell_type": "code",
   "execution_count": 16,
   "id": "72a2a694-3fa0-4a96-a0db-1f745b9b262b",
   "metadata": {},
   "outputs": [],
   "source": [
    "from sklearn.manifold import TSNE"
   ]
  },
  {
   "cell_type": "code",
   "execution_count": 17,
   "id": "f6271410-097e-4f6e-b468-293b95c75b30",
   "metadata": {},
   "outputs": [
    {
     "name": "stderr",
     "output_type": "stream",
     "text": [
      "/storage/rok/miniconda3/lib/python3.9/site-packages/sklearn/manifold/_t_sne.py:795: FutureWarning: The default initialization in TSNE will change from 'random' to 'pca' in 1.2.\n",
      "  warnings.warn(\n",
      "/storage/rok/miniconda3/lib/python3.9/site-packages/sklearn/manifold/_t_sne.py:805: FutureWarning: The default learning rate in TSNE will change from 200.0 to 'auto' in 1.2.\n",
      "  warnings.warn(\n"
     ]
    }
   ],
   "source": [
    "X_tsne = TSNE(n_components = 2).fit_transform(X)"
   ]
  },
  {
   "cell_type": "code",
   "execution_count": 18,
   "id": "662b8cbf-4ff0-43a7-8c13-4bf440248356",
   "metadata": {},
   "outputs": [
    {
     "data": {
      "text/plain": [
       "array([[  -8.448942 ,  -95.73636  ],\n",
       "       [-322.87238  ,  -60.839497 ],\n",
       "       [ 250.60591  ,  168.6897   ],\n",
       "       [  79.61819  ,  285.48114  ],\n",
       "       [ 150.38094  ,  -57.385983 ],\n",
       "       [ 193.02016  , -230.7244   ],\n",
       "       [-127.79895  ,  304.34082  ],\n",
       "       [   2.4919715, -283.10144  ],\n",
       "       [ -71.20184  ,  132.74707  ],\n",
       "       [-148.08917  ,  -14.303594 ],\n",
       "       [  82.79181  ,   90.563774 ],\n",
       "       [ 323.1876   ,  -26.973036 ],\n",
       "       [-178.97356  , -211.39986  ],\n",
       "       [-268.42416  ,  145.82433  ]], dtype=float32)"
      ]
     },
     "execution_count": 18,
     "metadata": {},
     "output_type": "execute_result"
    }
   ],
   "source": [
    "X_tsne"
   ]
  },
  {
   "cell_type": "code",
   "execution_count": 19,
   "id": "93d28106-6e9f-4d7a-be86-b40a27309855",
   "metadata": {},
   "outputs": [],
   "source": [
    "tsne_x = [i[0] for i in X_tsne]\n",
    "tsne_y = [i[1] for i in X_tsne]"
   ]
  },
  {
   "cell_type": "code",
   "execution_count": 20,
   "id": "f96ab918-f972-4f47-a85f-df1756581d0e",
   "metadata": {},
   "outputs": [
    {
     "name": "stderr",
     "output_type": "stream",
     "text": [
      "/storage/rok/miniconda3/lib/python3.9/site-packages/IPython/core/pylabtools.py:151: UserWarning: Glyph 8722 (\\N{MINUS SIGN}) missing from current font.\n",
      "  fig.canvas.print_figure(bytes_io, **kw)\n"
     ]
    },
    {
     "data": {
      "image/png": "[encoded data removed]",
      "text/plain": [
       "<Figure size 432x288 with 1 Axes>"
      ]
     },
     "metadata": {
      "needs_background": "light"
     },
     "output_type": "display_data"
    }
   ],
   "source": [
    "font_fname = './NanumGothic.ttf'\n",
    "font_family = font_manager.FontProperties(fname=font_fname).get_name()\n",
    "plt.rcParams[\"font.family\"] = font_family\n",
    "\n",
    "plt.plot(tsne_x, tsne_y , linestyle='', marker='.')\n",
    "for x,y,w in zip(tsne_x, tsne_y, words):\n",
    "    label = w\n",
    "\n",
    "    plt.annotate(label, # this is the text\n",
    "                 (x,y), # these are the coordinates to position the label\n",
    "                 textcoords=\"offset points\", # how to position the text\n",
    "                 xytext=(0,10), # distance from text to points (x,y)\n",
    "                 ha='center') # horizontal alignment can be left, right or center\n",
    "\n",
    "plt.show()"
   ]
  },
  {
   "cell_type": "code",
   "execution_count": null,
   "id": "b29f6ff3-9c1b-4e74-8169-d9f4bc666f99",
   "metadata": {},
   "outputs": [],
   "source": []
  }
 ],
 "metadata": {
  "kernelspec": {
   "display_name": "Python 3 (ipykernel)",
   "language": "python",
   "name": "python3"
  },
  "language_info": {
   "codemirror_mode": {
    "name": "ipython",
    "version": 3
   },
   "file_extension": ".py",
   "mimetype": "text/x-python",
   "name": "python",
   "nbconvert_exporter": "python",
   "pygments_lexer": "ipython3",
   "version": "3.9.5"
  }
 },
 "nbformat": 4,
 "nbformat_minor": 5
}
